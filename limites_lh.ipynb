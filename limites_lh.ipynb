{
  "nbformat": 4,
  "nbformat_minor": 0,
  "metadata": {
    "colab": {
      "name": "limites_lh.ipynb",
      "provenance": [],
      "collapsed_sections": [],
      "include_colab_link": true
    },
    "kernelspec": {
      "name": "python3",
      "display_name": "Python 3"
    }
  },
  "cells": [
    {
      "cell_type": "markdown",
      "metadata": {
        "id": "view-in-github",
        "colab_type": "text"
      },
      "source": [
        "<a href=\"https://colab.research.google.com/github/crdguez/3d_things_for_friends/blob/master/limites_lh.ipynb\" target=\"_parent\"><img src=\"https://colab.research.google.com/assets/colab-badge.svg\" alt=\"Open In Colab\"/></a>"
      ]
    },
    {
      "cell_type": "code",
      "metadata": {
        "id": "taNkBmiLSjTL",
        "colab_type": "code",
        "colab": {}
      },
      "source": [
        "\n",
        "from sympy import *\n",
        "# init_session()\n",
        "from __future__ import division\n",
        "a, b  = symbols('a b')\n",
        "x, y, z, t = symbols('x y z t')\n",
        "k, m, n = symbols('k m n', integer=True)\n",
        "f, g, h = symbols('f g h', cls=Function)\n",
        "init_printing()"
      ],
      "execution_count": 0,
      "outputs": []
    },
    {
      "cell_type": "markdown",
      "metadata": {
        "id": "nWgZI-HqSkGi",
        "colab_type": "text"
      },
      "source": [
        "# Límites\n"
      ]
    },
    {
      "cell_type": "code",
      "metadata": {
        "colab_type": "code",
        "outputId": "dafbecd3-0527-4a7f-f2e0-25730e0a28d3",
        "id": "2mmH8lcDD1lv",
        "colab": {
          "base_uri": "https://localhost:8080/",
          "height": 816
        }
      },
      "source": [
        "# P33.E52\n",
        "\n",
        "\n",
        "datos = [[(x**4-20*x-21)/(x**2+11*x-42),3],[(x**3-7*x+3)/(3-x-5*x**3),oo],[sin(x)/x,0],[(E**x-1)/x,0],\n",
        "         [(1-cos(x))/x**2,0], [(sin(x)-x+x**2/6)/x**3,0],[(atan(x)-x-x**3/3)/x**3,0],\n",
        "         [(x-sin(x))/x*sin(x),0],[(1/x-1/sin(x)),0], [1/x*log(sin(x)/x,10),0],\n",
        "         [(1-E**(-x))**(x**2),oo], [cos(2*x)**(3/x**2),0], [tan(pi*x/4)**tan(pi*x/2),1],\n",
        "         [x**(1/(1-x)),1], [1/x*log(tan(x)/x,10),0]\n",
        "\n",
        "         ]\n",
        "\n",
        "pprint([(Limit(i[0],x,i[1]),limit(i[0],x,i[1])) for i in datos])\n",
        "\n"
      ],
      "execution_count": 31,
      "outputs": [
        {
          "output_type": "stream",
          "text": [
            "⎡                                                                             \n",
            "⎢                                                                             \n",
            "⎢⎛     ⎛ 4            ⎞    ⎞  ⎛    ⎛  3           ⎞      ⎞                    \n",
            "⎢⎜     ⎜x  - 20⋅x - 21⎟  88⎟  ⎜    ⎜ x  - 7⋅x + 3 ⎟      ⎟  ⎛     ⎛sin(x)⎞   ⎞\n",
            "⎢⎜ lim ⎜──────────────⎟, ──⎟, ⎜lim ⎜──────────────⎟, -1/5⎟, ⎜ lim ⎜──────⎟, 1⎟\n",
            "⎢⎜x─→3⁺⎜ 2            ⎟  17⎟  ⎜x─→∞⎜     3        ⎟      ⎟  ⎝x─→0⁺⎝  x   ⎠   ⎠\n",
            "⎣⎝     ⎝x  + 11⋅x - 42⎠    ⎠  ⎝    ⎝- 5⋅x  - x + 3⎠      ⎠                    \n",
            "\n",
            "                                                 ⎛     ⎛ 2             ⎞   ⎞  \n",
            "                                                 ⎜     ⎜x              ⎟   ⎟  \n",
            "  ⎛     ⎛ x    ⎞   ⎞                             ⎜     ⎜── - x + sin(x)⎟   ⎟  \n",
            "  ⎜     ⎜ℯ  - 1⎟   ⎟  ⎛     ⎛-cos(x) + 1⎞     ⎞  ⎜     ⎜6              ⎟   ⎟  \n",
            ", ⎜ lim ⎜──────⎟, 1⎟, ⎜ lim ⎜───────────⎟, 1/2⎟, ⎜ lim ⎜───────────────⎟, ∞⎟, \n",
            "  ⎝x─→0⁺⎝  x   ⎠   ⎠  ⎜x─→0⁺⎜      2    ⎟     ⎟  ⎜x─→0⁺⎜        3      ⎟   ⎟  \n",
            "                      ⎝     ⎝     x     ⎠     ⎠  ⎝     ⎝       x       ⎠   ⎠  \n",
            "\n",
            "⎛     ⎛   3              ⎞      ⎞                                             \n",
            "⎜     ⎜  x               ⎟      ⎟                                             \n",
            "⎜     ⎜- ── - x + atan(x)⎟      ⎟                                             \n",
            "⎜     ⎜  3               ⎟      ⎟  ⎛     ⎛(x - sin(x))⋅sin(x)⎞   ⎞  ⎛     ⎛   \n",
            "⎜ lim ⎜──────────────────⎟, -2/3⎟, ⎜ lim ⎜───────────────────⎟, 0⎟, ⎜ lim ⎜- ─\n",
            "⎜x─→0⁺⎜         3        ⎟      ⎟  ⎝x─→0⁺⎝         x         ⎠   ⎠  ⎝x─→0⁺⎝  s\n",
            "⎝     ⎝        x         ⎠      ⎠                                             \n",
            "\n",
            "                                                                 ⎛            \n",
            "                ⎛     ⎛   ⎛sin(x)⎞⎞   ⎞  ⎛             ⎛ 2⎞   ⎞  ⎜            \n",
            "                ⎜     ⎜log⎜──────⎟⎟   ⎟  ⎜             ⎝x ⎠   ⎟  ⎜            \n",
            " 1      1⎞   ⎞  ⎜     ⎜   ⎝  x   ⎠⎟   ⎟  ⎜    ⎛     -x⎞       ⎟  ⎜            \n",
            "───── + ─⎟, 0⎟, ⎜ lim ⎜───────────⎟, 0⎟, ⎜lim ⎝1 - ℯ  ⎠    , 1⎟, ⎜ lim (cos(2⋅\n",
            "in(x)   x⎠   ⎠  ⎝x─→0⁺⎝ x⋅log(10) ⎠   ⎠  ⎝x─→∞                ⎠  ⎝x─→0⁺       \n",
            "                                                                              \n",
            "\n",
            "   3      ⎞  ⎛                  ⎛π⋅x⎞     ⎞                                   \n",
            "   ──     ⎟  ⎜               tan⎜───⎟     ⎟  ⎛        1        ⎞  ⎛     ⎛   ⎛t\n",
            "    2     ⎟  ⎜                  ⎝ 2 ⎠     ⎟  ⎜      ──────     ⎟  ⎜     ⎜log⎜─\n",
            "   x    -6⎟  ⎜     ⎛   ⎛π⋅x⎞⎞           -1⎟  ⎜      -x + 1   -1⎟  ⎜     ⎜   ⎝ \n",
            "x))  , ℯ  ⎟, ⎜ lim ⎜tan⎜───⎟⎟        , ℯ  ⎟, ⎜ lim x      , ℯ  ⎟, ⎜ lim ⎜─────\n",
            "          ⎠  ⎝x─→1⁺⎝   ⎝ 4 ⎠⎠             ⎠  ⎝x─→1⁺            ⎠  ⎝x─→0⁺⎝ x⋅lo\n",
            "                                                                              \n",
            "\n",
            "           ⎤\n",
            "an(x)⎞⎞   ⎞⎥\n",
            "─────⎟⎟   ⎟⎥\n",
            " x   ⎠⎟   ⎟⎥\n",
            "──────⎟, 0⎟⎥\n",
            "g(10) ⎠   ⎠⎥\n",
            "           ⎦\n"
          ],
          "name": "stdout"
        }
      ]
    },
    {
      "cell_type": "code",
      "metadata": {
        "id": "yeVUtGs7SnUA",
        "colab_type": "code",
        "outputId": "5b00cfcc-26ad-4110-af07-84ed2fd32d97",
        "colab": {
          "base_uri": "https://localhost:8080/",
          "height": 595
        }
      },
      "source": [
        "# P33.E53\n",
        "\n",
        "\n",
        "datos = [[(log(E**x+x**3))/x,0], [(1+1/x)**(1/2)-(1+4/x)**(1/2),0], \n",
        "         [(a**x-b**x)/x,0], [(log(cos(3*x)))/x**2,0],\n",
        "         [(sin(x)-cos(x))/(1-cos(x)),0],[(log(1+x))/(root(x**3,4)),0],\n",
        "         [(2*(cos(x)+sin(x)))/x,0],[(log((1+x)/x))/(1/x),oo],\n",
        "         [(x**3+1)/(x**2-3*x+4),-1],[(x-sin(x))/(tan(x)-x),0],\n",
        "         [(1-cos(x))/(sin(x)+cos(x)),0]\n",
        "\n",
        "         ]\n",
        "\n",
        "pprint([(Limit(i[0],x,i[1]),limit(i[0],x,i[1])) for i in datos])\n",
        "\n"
      ],
      "execution_count": 32,
      "outputs": [
        {
          "output_type": "stream",
          "text": [
            "⎡⎛     ⎛   ⎛ 3    x⎞⎞   ⎞  ⎛     ⎛       0.5          0.5⎞    ⎞  ⎛     ⎛ x    \n",
            "⎢⎜     ⎜log⎝x  + ℯ ⎠⎟   ⎟  ⎜     ⎜⎛    1⎞      ⎛    4⎞   ⎟    ⎟  ⎜     ⎜a  - b\n",
            "⎢⎜ lim ⎜────────────⎟, 1⎟, ⎜ lim ⎜⎜1 + ─⎟    - ⎜1 + ─⎟   ⎟, -∞⎟, ⎜ lim ⎜──────\n",
            "⎢⎝x─→0⁺⎝     x      ⎠   ⎠  ⎝x─→0⁺⎝⎝    x⎠      ⎝    x⎠   ⎠    ⎠  ⎝x─→0⁺⎝   x  \n",
            "⎢                                                                             \n",
            "⎣                                                                             \n",
            "\n",
            "x⎞                 ⎞                                                          \n",
            " ⎟                 ⎟  ⎛     ⎛log(cos(3⋅x))⎞      ⎞  ⎛     ⎛sin(x) - cos(x)⎞   \n",
            "─⎟, log(a) - log(b)⎟, ⎜ lim ⎜─────────────⎟, -9/2⎟, ⎜ lim ⎜───────────────⎟, -\n",
            " ⎠                 ⎠  ⎜x─→0⁺⎜       2     ⎟      ⎟  ⎝x─→0⁺⎝  -cos(x) + 1  ⎠   \n",
            "                      ⎝     ⎝      x      ⎠      ⎠                            \n",
            "                                                                              \n",
            "\n",
            "                                                                              \n",
            " ⎞  ⎛     ⎛log(x + 1)⎞   ⎞  ⎛     ⎛2⋅sin(x) + 2⋅cos(x)⎞   ⎞  ⎛    ⎛     ⎛x + 1\n",
            "∞⎟, ⎜ lim ⎜──────────⎟, 0⎟, ⎜ lim ⎜───────────────────⎟, ∞⎟, ⎜lim ⎜x⋅log⎜─────\n",
            " ⎠  ⎜x─→0⁺⎜    ____  ⎟   ⎟  ⎝x─→0⁺⎝         x         ⎠   ⎠  ⎝x─→∞⎝     ⎝  x  \n",
            "    ⎜     ⎜ 4 ╱  3   ⎟   ⎟                                                    \n",
            "    ⎝     ⎝ ╲╱  x    ⎠   ⎠                                                    \n",
            "\n",
            "        ⎛      ⎛    3       ⎞   ⎞                                             \n",
            "⎞⎞   ⎞  ⎜      ⎜   x  + 1   ⎟   ⎟  ⎛     ⎛ x - sin(x)⎞     ⎞  ⎛     ⎛  -cos(x)\n",
            "⎟⎟, 1⎟, ⎜ lim  ⎜────────────⎟, 0⎟, ⎜ lim ⎜───────────⎟, 1/2⎟, ⎜ lim ⎜─────────\n",
            "⎠⎠   ⎠  ⎜x─→-1⁺⎜ 2          ⎟   ⎟  ⎝x─→0⁺⎝-x + tan(x)⎠     ⎠  ⎝x─→0⁺⎝sin(x) + \n",
            "        ⎝      ⎝x  - 3⋅x + 4⎠   ⎠                                             \n",
            "                                                                              \n",
            "\n",
            "           ⎤\n",
            " + 1  ⎞   ⎞⎥\n",
            "──────⎟, 0⎟⎥\n",
            "cos(x)⎠   ⎠⎥\n",
            "           ⎥\n",
            "           ⎦\n"
          ],
          "name": "stdout"
        }
      ]
    },
    {
      "cell_type": "code",
      "metadata": {
        "colab_type": "code",
        "outputId": "89501e0b-6e3c-459c-f136-c500207e6909",
        "id": "DFOMentlJYwX",
        "colab": {
          "base_uri": "https://localhost:8080/",
          "height": 952
        }
      },
      "source": [
        "# P33.E54\n",
        "\n",
        "\n",
        "datos = [[cos(x)*log(tan(x)),pi/2],[(cos(x)+sin(x))**(1/x),0],\n",
        "         [(tan(x))**cos(x),pi/2],[(E**x+x**3)**(1/x),0],\n",
        "         [(E**sin(x)-1)*tan(x+pi/2),0],[(1+x)**x,oo],\n",
        "         [x*log((1+x)/x),oo], [(1-sin(2*x))**cot(3*x),0],\n",
        "         [(1/x)**tan(x),0],[sqrt(x**2+x+2)-x,oo],[tan(x)**(1/cos(2*x)),pi/2],\n",
        "         [cot(x)**sin(x),0],[5*cot(x/2)*sqrt(1-cos(x)),0],\n",
        "         [((1+x)/(1+x+x**2))*(1+cot(x)**2),0],\n",
        "         [((1/cos(2*x))-(tan(x)/(1-4*x/pi))),pi/2],\n",
        "         [(1-cos(x))*cot(x),0]\n",
        "\n",
        "         ]\n",
        "\n",
        "pprint([(Limit(i[0],x,i[1]),limit(i[0],x,i[1])) for i in datos])\n",
        "\n"
      ],
      "execution_count": 33,
      "outputs": [
        {
          "output_type": "stream",
          "text": [
            "⎡                                                                             \n",
            "⎢                                                                             \n",
            "⎢                                ⎛     x _________________   ⎞  ⎛        cos(x\n",
            "⎢⎛ lim (log(tan(x))⋅cos(x)), 0⎞, ⎜ lim ╲╱ sin(x) + cos(x) , ℯ⎟, ⎜ lim tan     \n",
            "⎢⎜   π                        ⎟  ⎝x─→0⁺                      ⎠  ⎜   π         \n",
            "⎢⎜x─→─⁺                       ⎟                                 ⎜x─→─⁺        \n",
            "⎣⎝   2                        ⎠                                 ⎝   2         \n",
            "\n",
            "                                                                              \n",
            "          ⎛        _________   ⎞                                              \n",
            ")      ⎞  ⎜     x ╱  3    x    ⎟  ⎛     ⎛ ⎛ sin(x)    ⎞       ⎞    ⎞  ⎛       \n",
            " (x), 1⎟, ⎜ lim ╲╱  x  + ℯ  , ℯ⎟, ⎜ lim ⎝-⎝ℯ       - 1⎠⋅cot(x)⎠, -1⎟, ⎜lim (x \n",
            "       ⎟  ⎝x─→0⁺               ⎠  ⎝x─→0⁺                           ⎠  ⎝x─→∞   \n",
            "       ⎟                                                                      \n",
            "       ⎠                                                                      \n",
            "\n",
            "                                                                              \n",
            "                                                                           ⎛  \n",
            "    x   ⎞  ⎛    ⎛     ⎛x + 1⎞⎞   ⎞  ⎛                    cot(3⋅x)   -2/3⎞  ⎜  \n",
            "+ 1) , ∞⎟, ⎜lim ⎜x⋅log⎜─────⎟⎟, 1⎟, ⎜ lim (-sin(2⋅x) + 1)        , ℯ    ⎟, ⎜ l\n",
            "        ⎠  ⎝x─→∞⎝     ⎝  x  ⎠⎠   ⎠  ⎝x─→0⁺                              ⎠  ⎝x─\n",
            "                                                                              \n",
            "                                                                              \n",
            "\n",
            "                                                     ⎛                1       \n",
            "      tan(x)   ⎞  ⎛    ⎛        ____________⎞     ⎞  ⎜             ────────   \n",
            "   ⎛1⎞         ⎟  ⎜    ⎜       ╱  2         ⎟     ⎟  ⎜             cos(2⋅x)   \n",
            "im ⎜─⎟      , 1⎟, ⎜lim ⎝-x + ╲╱  x  + x + 2 ⎠, 1/2⎟, ⎜ lim (tan(x))        , 0\n",
            "→0⁺⎝x⎠         ⎠  ⎝x─→∞                           ⎠  ⎜   π                    \n",
            "                                                     ⎜x─→─⁺                   \n",
            "                                                     ⎝   2                    \n",
            "\n",
            "⎞                                                                             \n",
            "⎟                                                                   ⎛     ⎛   \n",
            "⎟  ⎛        sin(x)      ⎞  ⎛     ⎛    _____________    ⎛x⎞⎞      ⎞  ⎜     ⎜(x \n",
            "⎟, ⎜ lim cot      (x), 1⎟, ⎜ lim ⎜5⋅╲╱ -cos(x) + 1 ⋅cot⎜─⎟⎟, 5⋅√2⎟, ⎜ lim ⎜───\n",
            "⎟  ⎝x─→0⁺               ⎠  ⎝x─→0⁺⎝                     ⎝2⎠⎠      ⎠  ⎜x─→0⁺⎜   \n",
            "⎟                                                                   ⎝     ⎝   \n",
            "⎠                                                                             \n",
            "\n",
            "                                                                              \n",
            "     ⎛   2       ⎞⎞   ⎞                                                       \n",
            "+ 1)⋅⎝cot (x) + 1⎠⎟   ⎟  ⎛     ⎛   1         tan(x) ⎞    ⎞                    \n",
            "──────────────────⎟, ∞⎟, ⎜ lim ⎜──────── - ─────────⎟, -∞⎟, ⎛ lim ((-cos(x) + \n",
            "    2             ⎟   ⎟  ⎜   π ⎜cos(2⋅x)     4⋅x    ⎟    ⎟  ⎝x─→0⁺            \n",
            "   x  + x + 1     ⎠   ⎠  ⎜x─→─⁺⎜           - ─── + 1⎟    ⎟                    \n",
            "                         ⎝   2 ⎝              π     ⎠    ⎠                    \n",
            "\n",
            "              ⎤\n",
            "              ⎥\n",
            "              ⎥\n",
            "1)⋅cot(x)), 0⎞⎥\n",
            "             ⎠⎥\n",
            "              ⎥\n",
            "              ⎦\n"
          ],
          "name": "stdout"
        }
      ]
    }
  ]
}